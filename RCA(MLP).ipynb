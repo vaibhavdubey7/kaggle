{
  "nbformat": 4,
  "nbformat_minor": 0,
  "metadata": {
    "colab": {
      "provenance": [],
      "authorship_tag": "ABX9TyOBgQMBad7fahnh3qiNiS9L",
      "include_colab_link": true
    },
    "kernelspec": {
      "name": "python3",
      "display_name": "Python 3"
    },
    "language_info": {
      "name": "python"
    }
  },
  "cells": [
    {
      "cell_type": "markdown",
      "metadata": {
        "id": "view-in-github",
        "colab_type": "text"
      },
      "source": [
        "<a href=\"https://colab.research.google.com/github/vaibhavdubey7/kaggle/blob/main/RCA(MLP).ipynb\" target=\"_parent\"><img src=\"https://colab.research.google.com/assets/colab-badge.svg\" alt=\"Open In Colab\"/></a>"
      ]
    },
    {
      "cell_type": "code",
      "execution_count": 1,
      "metadata": {
        "colab": {
          "base_uri": "https://localhost:8080/"
        },
        "id": "pHxPhNgYB6A-",
        "outputId": "70fefd4e-446f-4711-d020-d5e282de4352"
      },
      "outputs": [
        {
          "output_type": "stream",
          "name": "stdout",
          "text": [
            "Predicted root cause: Cause E\n"
          ]
        },
        {
          "output_type": "stream",
          "name": "stderr",
          "text": [
            "/usr/local/lib/python3.10/dist-packages/sklearn/neural_network/_multilayer_perceptron.py:686: ConvergenceWarning: Stochastic Optimizer: Maximum iterations (200) reached and the optimization hasn't converged yet.\n",
            "  warnings.warn(\n"
          ]
        }
      ],
      "source": [
        "import numpy as np\n",
        "from sklearn.neural_network import MLPClassifier\n",
        "\n",
        "# Define the training data\n",
        "# Each sample consists of the input variables and the corresponding root cause label\n",
        "# You would need to replace this data with your specific dataset\n",
        "X_train = np.array([\n",
        "    [0, 0, 1, 1],\n",
        "    [1, 0, 0, 1],\n",
        "    [1, 1, 1, 0],\n",
        "    [0, 1, 0, 0],\n",
        "    [1, 0, 1, 0],\n",
        "    [0, 1, 1, 1]\n",
        "])\n",
        "\n",
        "y_train = np.array([\n",
        "    'Cause A',\n",
        "    'Cause B',\n",
        "    'Cause C',\n",
        "    'Cause D',\n",
        "    'Cause E',\n",
        "    'Cause F'\n",
        "])\n",
        "\n",
        "# Create and train the neural network\n",
        "model = MLPClassifier(hidden_layer_sizes=(10, 10))  # Customize the architecture as needed\n",
        "model.fit(X_train, y_train)\n",
        "\n",
        "# Define a test sample for prediction\n",
        "# You would need to replace this data with your specific test data\n",
        "X_test = np.array([[0, 0, 1, 0]])\n",
        "\n",
        "# Perform prediction using the trained model\n",
        "y_pred = model.predict(X_test)\n",
        "\n",
        "# Print the predicted root cause\n",
        "print(\"Predicted root cause:\", y_pred[0])\n"
      ]
    }
  ]
}